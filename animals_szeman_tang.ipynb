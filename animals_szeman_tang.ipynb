{
  "cells": [
    {
      "cell_type": "markdown",
      "metadata": {
        "id": "view-in-github",
        "colab_type": "text"
      },
      "source": [
        "<a href=\"https://colab.research.google.com/github/Devarsh-Patel/CECS-456-Machine-Learning-Project/blob/main/animals_szeman_tang.ipynb\" target=\"_parent\"><img src=\"https://colab.research.google.com/assets/colab-badge.svg\" alt=\"Open In Colab\"/></a>"
      ]
    },
    {
      "cell_type": "code",
      "execution_count": 25,
      "metadata": {
        "colab": {
          "base_uri": "https://localhost:8080/"
        },
        "id": "ZvLjnUwuZT0U",
        "outputId": "c91d6632-0a85-4e77-9edc-7df0e4b98283"
      },
      "outputs": [
        {
          "output_type": "stream",
          "name": "stdout",
          "text": [
            "Requirement already satisfied: kaggle in /usr/local/lib/python3.7/dist-packages (1.5.12)\n",
            "Requirement already satisfied: python-slugify in /usr/local/lib/python3.7/dist-packages (from kaggle) (6.1.2)\n",
            "Requirement already satisfied: tqdm in /usr/local/lib/python3.7/dist-packages (from kaggle) (4.64.0)\n",
            "Requirement already satisfied: python-dateutil in /usr/local/lib/python3.7/dist-packages (from kaggle) (2.8.2)\n",
            "Requirement already satisfied: requests in /usr/local/lib/python3.7/dist-packages (from kaggle) (2.23.0)\n",
            "Requirement already satisfied: six>=1.10 in /usr/local/lib/python3.7/dist-packages (from kaggle) (1.15.0)\n",
            "Requirement already satisfied: certifi in /usr/local/lib/python3.7/dist-packages (from kaggle) (2021.10.8)\n",
            "Requirement already satisfied: urllib3 in /usr/local/lib/python3.7/dist-packages (from kaggle) (1.24.3)\n",
            "Requirement already satisfied: text-unidecode>=1.3 in /usr/local/lib/python3.7/dist-packages (from python-slugify->kaggle) (1.3)\n",
            "Requirement already satisfied: idna<3,>=2.5 in /usr/local/lib/python3.7/dist-packages (from requests->kaggle) (2.10)\n",
            "Requirement already satisfied: chardet<4,>=3.0.2 in /usr/local/lib/python3.7/dist-packages (from requests->kaggle) (3.0.4)\n"
          ]
        }
      ],
      "source": [
        "! pip install kaggle"
      ]
    },
    {
      "cell_type": "code",
      "execution_count": null,
      "metadata": {
        "id": "G0VjJXvWBMmO",
        "colab": {
          "base_uri": "https://localhost:8080/"
        },
        "outputId": "26e1b7fe-896d-4a85-c713-e84ad36c408d"
      },
      "outputs": [
        {
          "output_type": "stream",
          "name": "stdout",
          "text": [
            "mkdir: cannot create directory ‘/root/.kaggle’: File exists\n"
          ]
        }
      ],
      "source": [
        "! mkdir ~/.kaggle"
      ]
    },
    {
      "cell_type": "code",
      "execution_count": null,
      "metadata": {
        "id": "guu726jPBMoL"
      },
      "outputs": [],
      "source": [
        "! cp kaggle.json ~/.kaggle/"
      ]
    },
    {
      "cell_type": "code",
      "execution_count": null,
      "metadata": {
        "id": "QfQHo3eMBMqU"
      },
      "outputs": [],
      "source": [
        "! chmod 600 ~/.kaggle/kaggle.json"
      ]
    },
    {
      "cell_type": "code",
      "execution_count": null,
      "metadata": {
        "colab": {
          "base_uri": "https://localhost:8080/"
        },
        "id": "sWLnpKtVBMsV",
        "outputId": "90c3b6c3-58fd-4ab8-e158-eeab9b69bdc4"
      },
      "outputs": [
        {
          "output_type": "stream",
          "name": "stdout",
          "text": [
            "animals10.zip: Skipping, found more recently modified local copy (use --force to force download)\n"
          ]
        }
      ],
      "source": [
        "! kaggle datasets download -d alessiocorrado99/animals10"
      ]
    },
    {
      "cell_type": "code",
      "execution_count": null,
      "metadata": {
        "id": "z5pzYdjiBMuO"
      },
      "outputs": [],
      "source": [
        "#!unzip animals10.zip"
      ]
    },
    {
      "cell_type": "code",
      "execution_count": 26,
      "metadata": {
        "id": "An5Iyw1nrUS4"
      },
      "outputs": [],
      "source": [
        "import tensorflow as tf\n",
        "import tensorflow_datasets as tfds\n",
        "import sklearn\n",
        "import numpy as np\n",
        "import pandas as pd\n",
        "import tensorflow as tf\n",
        "\n",
        "np.random.seed(42)\n",
        "import matplotlib as mpl\n",
        "import matplotlib.pyplot as plt\n",
        "import os\n",
        "import cv2\n",
        "\n",
        "from tensorflow.keras import layers\n",
        "from tensorflow.keras import regularizers\n",
        "\n",
        "from keras.models import Sequential\n",
        "from keras.layers.core import Dense, Dropout, Flatten\n",
        "from keras.layers import Conv2D, MaxPooling2D, BatchNormalization\n",
        "from keras.regularizers import l2\n",
        "\n",
        "\n",
        "from keras.preprocessing import image\n",
        "from keras.preprocessing.image import ImageDataGenerator"
      ]
    },
    {
      "cell_type": "code",
      "source": [
        "batch_size = 64\n",
        "img_height = 227\n",
        "img_width = 227"
      ],
      "metadata": {
        "id": "e1517WHTfF_C"
      },
      "execution_count": 24,
      "outputs": []
    },
    {
      "cell_type": "code",
      "source": [
        "#Load data using a Keras utility\n",
        "train_ds = tf.keras.utils.image_dataset_from_directory(\n",
        "  'raw-img',\n",
        "  validation_split=0.2,\n",
        "  subset=\"training\",\n",
        "  seed=123,\n",
        "  image_size=(img_height, img_width),\n",
        "  batch_size=batch_size)"
      ],
      "metadata": {
        "id": "0p5JlfVKeUmD",
        "colab": {
          "base_uri": "https://localhost:8080/"
        },
        "outputId": "45c0a1e8-9304-4876-8212-0bf22ed5bdf7"
      },
      "execution_count": 29,
      "outputs": [
        {
          "output_type": "stream",
          "name": "stdout",
          "text": [
            "Found 26179 files belonging to 10 classes.\n",
            "Using 20944 files for training.\n"
          ]
        }
      ]
    },
    {
      "cell_type": "code",
      "source": [
        "# add a testing\n",
        "val_ds = tf.keras.utils.image_dataset_from_directory(\n",
        " 'raw-img',\n",
        "  validation_split=0.2,\n",
        "  subset=\"validation\",\n",
        "  seed=123,\n",
        "  image_size=(img_height, img_width),\n",
        "  batch_size=batch_size)"
      ],
      "metadata": {
        "id": "QoUIC6HafAv3",
        "colab": {
          "base_uri": "https://localhost:8080/"
        },
        "outputId": "644ab6bb-1062-464d-d777-714387f5bb30"
      },
      "execution_count": 30,
      "outputs": [
        {
          "output_type": "stream",
          "name": "stdout",
          "text": [
            "Found 26179 files belonging to 10 classes.\n",
            "Using 5235 files for validation.\n"
          ]
        }
      ]
    },
    {
      "cell_type": "code",
      "source": [
        "class_names = train_ds.class_names\n",
        "print(class_names)"
      ],
      "metadata": {
        "id": "CWd1TSoymzGt",
        "colab": {
          "base_uri": "https://localhost:8080/"
        },
        "outputId": "1e886bbd-e088-4322-b0dc-9ca7b124f9cc"
      },
      "execution_count": 31,
      "outputs": [
        {
          "output_type": "stream",
          "name": "stdout",
          "text": [
            "['cane', 'cavallo', 'elefante', 'farfalla', 'gallina', 'gatto', 'mucca', 'pecora', 'ragno', 'scoiattolo']\n"
          ]
        }
      ]
    },
    {
      "cell_type": "code",
      "source": [
        "normalization_layer = tf.keras.layers.Rescaling(1./255)"
      ],
      "metadata": {
        "id": "ELZJw8ECoNnn"
      },
      "execution_count": 35,
      "outputs": []
    },
    {
      "cell_type": "code",
      "source": [
        "for image_batch, labels_batch in train_ds:\n",
        "  print(image_batch.shape)\n",
        "  print(labels_batch.shape)\n",
        "  break"
      ],
      "metadata": {
        "colab": {
          "base_uri": "https://localhost:8080/"
        },
        "outputId": "ba6fe2dd-abe0-4738-a89f-c731600b7d7a",
        "id": "_eAI3TFTkFSP"
      },
      "execution_count": 34,
      "outputs": [
        {
          "output_type": "stream",
          "name": "stdout",
          "text": [
            "(64, 227, 227, 3)\n",
            "(64,)\n"
          ]
        }
      ]
    },
    {
      "cell_type": "code",
      "source": [
        "normalized_ds = train_ds.map(lambda x, y: (normalization_layer(x), y))\n",
        "image_batch, labels_batch = next(iter(normalized_ds))\n",
        "first_image = image_batch[0]\n",
        "# Pixel values are now in [0,1]\n",
        "print(np.min(first_image), np.max(first_image))"
      ],
      "metadata": {
        "id": "rIY4R4L4oP4O",
        "colab": {
          "base_uri": "https://localhost:8080/"
        },
        "outputId": "728bc511-5127-425a-d1f2-826712417cac"
      },
      "execution_count": 36,
      "outputs": [
        {
          "output_type": "stream",
          "name": "stdout",
          "text": [
            "0.0 0.9995644\n"
          ]
        }
      ]
    },
    {
      "cell_type": "code",
      "source": [
        "AUTOTUNE = tf.data.AUTOTUNE\n",
        "\n",
        "train_ds = train_ds.cache().prefetch(buffer_size=AUTOTUNE)\n",
        "val_ds = val_ds.cache().prefetch(buffer_size=AUTOTUNE)"
      ],
      "metadata": {
        "id": "tp8qZIUrooX6"
      },
      "execution_count": 37,
      "outputs": []
    },
    {
      "cell_type": "code",
      "source": [
        "alexnet = tf.keras.models.Sequential()\n",
        "\n",
        "alexnet.add(tf.keras.layers.Conv2D(filters=96, kernel_size=(11,11), strides=(4,4), activation='relu', input_shape=(227,227,3)))\n",
        "alexnet.add(tf.keras.layers.BatchNormalization())\n",
        "alexnet.add(tf.keras.layers.MaxPool2D(pool_size=(3,3), strides=(2,2)))\n",
        "\n",
        "alexnet.add(tf.keras.layers.Conv2D(filters=256, kernel_size=(5,5), strides=(1,1), activation='relu', padding=\"same\"))\n",
        "alexnet.add(tf.keras.layers.BatchNormalization())\n",
        "alexnet.add(tf.keras.layers.MaxPool2D(pool_size=(3,3), strides=(2,2)))\n",
        "\n",
        "alexnet.add(tf.keras.layers.Conv2D(filters=384, kernel_size=(3,3), strides=(1,1), activation='relu', padding=\"same\"))\n",
        "alexnet.add(tf.keras.layers.BatchNormalization())\n",
        "\n",
        "alexnet.add(tf.keras.layers.Conv2D(filters=384, kernel_size=(3,3), strides=(1,1), activation='relu', padding=\"same\"))\n",
        "alexnet.add(tf.keras.layers.BatchNormalization())\n",
        "\n",
        "alexnet.add(tf.keras.layers.Conv2D(filters=256, kernel_size=(3,3), strides=(1,1), activation='relu', padding=\"same\"))\n",
        "alexnet.add(tf.keras.layers.BatchNormalization())\n",
        "alexnet.add(tf.keras.layers.MaxPool2D(pool_size=(3,3), strides=(2,2)))\n",
        "\n",
        "alexnet.add(tf.keras.layers.Flatten())\n",
        "alexnet.add(tf.keras.layers.Dense(4096, activation='relu'))\n",
        "alexnet.add(tf.keras.layers.Dropout(0.5))\n",
        "\n",
        "alexnet.add(tf.keras.layers.Dense(4096, activation='relu'))\n",
        "alexnet.add(tf.keras.layers.Dropout(0.5))\n",
        "\n",
        "alexnet.add(tf.keras.layers.Dense(10, activation='softmax'))"
      ],
      "metadata": {
        "id": "sZ5hZag0rS6j"
      },
      "execution_count": 38,
      "outputs": []
    },
    {
      "cell_type": "code",
      "source": [
        "opt = tf.keras.optimizers.Adam(0.001)\n",
        "\n",
        "alexnet.compile(\n",
        "  optimizer=opt,\n",
        "  loss=tf.losses.SparseCategoricalCrossentropy(from_logits=True),\n",
        "  metrics=['accuracy'])"
      ],
      "metadata": {
        "id": "vKxWQfAOuO6k"
      },
      "execution_count": 40,
      "outputs": []
    },
    {
      "cell_type": "code",
      "source": [
        " alexnet.summary()"
      ],
      "metadata": {
        "colab": {
          "base_uri": "https://localhost:8080/"
        },
        "id": "xojK9JdbvHa6",
        "outputId": "1508d45f-89cb-4bfc-d0af-4661aa362764"
      },
      "execution_count": 41,
      "outputs": [
        {
          "output_type": "stream",
          "name": "stdout",
          "text": [
            "Model: \"sequential_2\"\n",
            "_________________________________________________________________\n",
            " Layer (type)                Output Shape              Param #   \n",
            "=================================================================\n",
            " conv2d_10 (Conv2D)          (None, 55, 55, 96)        34944     \n",
            "                                                                 \n",
            " batch_normalization_10 (Bat  (None, 55, 55, 96)       384       \n",
            " chNormalization)                                                \n",
            "                                                                 \n",
            " max_pooling2d_6 (MaxPooling  (None, 27, 27, 96)       0         \n",
            " 2D)                                                             \n",
            "                                                                 \n",
            " conv2d_11 (Conv2D)          (None, 27, 27, 256)       614656    \n",
            "                                                                 \n",
            " batch_normalization_11 (Bat  (None, 27, 27, 256)      1024      \n",
            " chNormalization)                                                \n",
            "                                                                 \n",
            " max_pooling2d_7 (MaxPooling  (None, 13, 13, 256)      0         \n",
            " 2D)                                                             \n",
            "                                                                 \n",
            " conv2d_12 (Conv2D)          (None, 13, 13, 384)       885120    \n",
            "                                                                 \n",
            " batch_normalization_12 (Bat  (None, 13, 13, 384)      1536      \n",
            " chNormalization)                                                \n",
            "                                                                 \n",
            " conv2d_13 (Conv2D)          (None, 13, 13, 384)       1327488   \n",
            "                                                                 \n",
            " batch_normalization_13 (Bat  (None, 13, 13, 384)      1536      \n",
            " chNormalization)                                                \n",
            "                                                                 \n",
            " conv2d_14 (Conv2D)          (None, 13, 13, 256)       884992    \n",
            "                                                                 \n",
            " batch_normalization_14 (Bat  (None, 13, 13, 256)      1024      \n",
            " chNormalization)                                                \n",
            "                                                                 \n",
            " max_pooling2d_8 (MaxPooling  (None, 6, 6, 256)        0         \n",
            " 2D)                                                             \n",
            "                                                                 \n",
            " flatten_2 (Flatten)         (None, 9216)              0         \n",
            "                                                                 \n",
            " dense_6 (Dense)             (None, 4096)              37752832  \n",
            "                                                                 \n",
            " dropout_4 (Dropout)         (None, 4096)              0         \n",
            "                                                                 \n",
            " dense_7 (Dense)             (None, 4096)              16781312  \n",
            "                                                                 \n",
            " dropout_5 (Dropout)         (None, 4096)              0         \n",
            "                                                                 \n",
            " dense_8 (Dense)             (None, 10)                40970     \n",
            "                                                                 \n",
            "=================================================================\n",
            "Total params: 58,327,818\n",
            "Trainable params: 58,325,066\n",
            "Non-trainable params: 2,752\n",
            "_________________________________________________________________\n"
          ]
        }
      ]
    },
    {
      "cell_type": "code",
      "source": [
        "history = alexnet.fit(train_ds, validation_data=val_ds, batch_size = 64, epochs=20)"
      ],
      "metadata": {
        "colab": {
          "base_uri": "https://localhost:8080/"
        },
        "id": "v_6ZNZQxuPDG",
        "outputId": "f3366a2f-909a-4ef7-90d7-b06eb7b81a28"
      },
      "execution_count": 45,
      "outputs": [
        {
          "output_type": "stream",
          "name": "stdout",
          "text": [
            "Epoch 1/20\n",
            "328/328 [==============================] - 29s 88ms/step - loss: 1.7679 - accuracy: 0.3997 - val_loss: 1.6567 - val_accuracy: 0.4344\n",
            "Epoch 2/20\n",
            "328/328 [==============================] - 29s 88ms/step - loss: 1.6428 - accuracy: 0.4460 - val_loss: 1.9507 - val_accuracy: 0.3142\n",
            "Epoch 3/20\n",
            "328/328 [==============================] - 29s 88ms/step - loss: 1.5515 - accuracy: 0.4837 - val_loss: 1.8733 - val_accuracy: 0.3379\n",
            "Epoch 4/20\n",
            "328/328 [==============================] - 29s 89ms/step - loss: 1.4455 - accuracy: 0.5212 - val_loss: 2.3793 - val_accuracy: 0.3087\n",
            "Epoch 5/20\n",
            "328/328 [==============================] - 29s 88ms/step - loss: 1.3654 - accuracy: 0.5510 - val_loss: 1.7684 - val_accuracy: 0.4078\n",
            "Epoch 6/20\n",
            "328/328 [==============================] - 29s 88ms/step - loss: 1.2992 - accuracy: 0.5777 - val_loss: 1.6866 - val_accuracy: 0.4441\n",
            "Epoch 7/20\n",
            "328/328 [==============================] - 29s 89ms/step - loss: 1.2379 - accuracy: 0.6000 - val_loss: 2.1085 - val_accuracy: 0.3578\n",
            "Epoch 8/20\n",
            "328/328 [==============================] - 29s 89ms/step - loss: 1.1583 - accuracy: 0.6279 - val_loss: 1.1592 - val_accuracy: 0.6128\n",
            "Epoch 9/20\n",
            "328/328 [==============================] - 29s 89ms/step - loss: 1.1040 - accuracy: 0.6444 - val_loss: 1.7609 - val_accuracy: 0.4308\n",
            "Epoch 10/20\n",
            "328/328 [==============================] - 29s 89ms/step - loss: 1.0318 - accuracy: 0.6708 - val_loss: 1.0841 - val_accuracy: 0.6514\n",
            "Epoch 11/20\n",
            "328/328 [==============================] - 29s 89ms/step - loss: 0.9738 - accuracy: 0.6909 - val_loss: 1.5117 - val_accuracy: 0.4928\n",
            "Epoch 12/20\n",
            "328/328 [==============================] - 29s 89ms/step - loss: 0.8980 - accuracy: 0.7111 - val_loss: 1.0804 - val_accuracy: 0.6525\n",
            "Epoch 13/20\n",
            "328/328 [==============================] - 29s 89ms/step - loss: 0.8313 - accuracy: 0.7332 - val_loss: 2.2940 - val_accuracy: 0.4218\n",
            "Epoch 14/20\n",
            "328/328 [==============================] - 29s 89ms/step - loss: 0.7525 - accuracy: 0.7575 - val_loss: 0.9750 - val_accuracy: 0.6875\n",
            "Epoch 15/20\n",
            "328/328 [==============================] - 29s 89ms/step - loss: 0.6959 - accuracy: 0.7781 - val_loss: 1.0153 - val_accuracy: 0.6806\n",
            "Epoch 16/20\n",
            "328/328 [==============================] - 29s 89ms/step - loss: 0.6278 - accuracy: 0.7963 - val_loss: 1.1397 - val_accuracy: 0.6556\n",
            "Epoch 17/20\n",
            "328/328 [==============================] - 29s 89ms/step - loss: 0.5921 - accuracy: 0.8166 - val_loss: 1.1578 - val_accuracy: 0.6720\n",
            "Epoch 18/20\n",
            "328/328 [==============================] - 29s 89ms/step - loss: 0.5123 - accuracy: 0.8394 - val_loss: 1.9222 - val_accuracy: 0.5303\n",
            "Epoch 19/20\n",
            "328/328 [==============================] - 29s 89ms/step - loss: 0.4854 - accuracy: 0.8495 - val_loss: 1.5609 - val_accuracy: 0.6181\n",
            "Epoch 20/20\n",
            "328/328 [==============================] - 29s 89ms/step - loss: 0.4386 - accuracy: 0.8617 - val_loss: 0.9103 - val_accuracy: 0.7402\n"
          ]
        }
      ]
    },
    {
      "cell_type": "code",
      "source": [
        "import matplotlib.pyplot as plt\n",
        "\n",
        "acc = history.history['accuracy']\n",
        "val_acc = history.history['val_accuracy']\n",
        "loss = history.history['loss']\n",
        "val_loss = history.history['val_loss']\n",
        "\n",
        "epochs = range(1, len(acc) + 1)\n",
        "\n",
        "plt.plot(epochs, acc, 'red', label='Training acc')\n",
        "plt.plot(epochs, val_acc, 'green', label='Validation acc')\n",
        "plt.title('Training and validation accuracy')\n",
        "plt.legend()\n",
        "\n",
        "plt.figure()\n",
        "\n",
        "plt.plot(epochs, loss, 'red', label='Training loss')\n",
        "plt.plot(epochs, val_loss, 'green', label='Validation loss')\n",
        "plt.title('Training and validation loss')\n",
        "plt.legend()\n",
        "\n",
        "plt.show()"
      ],
      "metadata": {
        "colab": {
          "base_uri": "https://localhost:8080/",
          "height": 545
        },
        "id": "Bakj3xYrJ4T1",
        "outputId": "1f278eb8-ecc6-436d-8b3b-46b8b0640efc"
      },
      "execution_count": 47,
      "outputs": [
        {
          "output_type": "display_data",
          "data": {
            "text/plain": [
              "<Figure size 432x288 with 1 Axes>"
            ],
            "image/png": "[encoded data removed]"
          },
          "metadata": {
            "needs_background": "light"
          }
        },
        {
          "output_type": "display_data",
          "data": {
            "text/plain": [
              "<Figure size 432x288 with 1 Axes>"
            ],
            "image/png": "[encoded data removed]"
          },
          "metadata": {
            "needs_background": "light"
          }
        }
      ]
    }
  ],
  "metadata": {
    "colab": {
      "name": "AlexNet.ipynb",
      "provenance": [],
      "machine_shape": "hm",
      "authorship_tag": "ABX9TyNcF9B6+LihzeX1LDulN3Et",
      "include_colab_link": true
    },
    "kernelspec": {
      "display_name": "Python 3",
      "name": "python3"
    },
    "language_info": {
      "name": "python"
    },
    "accelerator": "GPU"
  },
  "nbformat": 4,
  "nbformat_minor": 0
}