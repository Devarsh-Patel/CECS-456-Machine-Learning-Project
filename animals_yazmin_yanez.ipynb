{
  "cells": [
    {
      "cell_type": "markdown",
      "metadata": {
        "id": "view-in-github",
        "colab_type": "text"
      },
      "source": [
        "<a href=\"https://colab.research.google.com/github/Devarsh-Patel/CECS-456-Machine-Learning-Project/blob/main/animals_yazmin_yanez.ipynb\" target=\"_parent\"><img src=\"https://colab.research.google.com/assets/colab-badge.svg\" alt=\"Open In Colab\"/></a>"
      ]
    },
    {
      "cell_type": "markdown",
      "metadata": {
        "id": "BKecFBGexRXA"
      },
      "source": [
        "CECS 456 - Group Project\n",
        "\n",
        "Machine Learning \n",
        "\n",
        "Yazmin Yanez \n",
        "\n",
        "016749913\n"
      ]
    },
    {
      "cell_type": "code",
      "execution_count": null,
      "metadata": {
        "id": "V9qxhbPfxI4K"
      },
      "outputs": [],
      "source": [
        "import tensorflow as tf\n",
        "from tensorflow import keras\n",
        "import numpy as np\n",
        "import pandas as pd \n",
        "import os"
      ]
    },
    {
      "cell_type": "code",
      "execution_count": null,
      "metadata": {
        "id": "4Yz2C1iMFM9x"
      },
      "outputs": [],
      "source": [
        "#Provided by dataset as original labels are in italian \n",
        "translate = {\"cane\": \"dog\", \"cavallo\": \"horse\", \"elefante\": \"elephant\", \"farfalla\": \"butterfly\", \n",
        "             \"gallina\": \"chicken\", \"gatto\": \"cat\", \"mucca\": \"cow\", \"pecora\": \"sheep\", \n",
        "             \"scoiattolo\": \"squirrel\", \"dog\": \"cane\", \"cavallo\": \"horse\", \n",
        "             \"elephant\" : \"elefante\", \"butterfly\": \"farfalla\", \"chicken\": \"gallina\", \n",
        "             \"cat\": \"gatto\", \"cow\": \"mucca\", \"spider\": \"ragno\", \"squirrel\": \"scoiattolo\"} \n",
        "\n",
        "animalNamesIt = [\"cane\", \"cavallo\", \"elefante\", \"farfalla\", \"gallina\", \"gatto\", \"mucca\", \"pecora\", \"ragno\", \"scoiattolo\"]\n",
        "animalNamesEn = [\"dog\", \"horse\", \"elephant\", \"butterfly\", \"chicken\", \"cat\", \"cow\", \"sheep\", \"spider\", \"squirrel\"]"
      ]
    },
    {
      "cell_type": "code",
      "execution_count": null,
      "metadata": {
        "colab": {
          "base_uri": "https://localhost:8080/"
        },
        "id": "DGd6BP7fbV7c",
        "outputId": "5ca18255-43da-40df-f082-fc48e155e611"
      },
      "outputs": [
        {
          "output_type": "stream",
          "name": "stdout",
          "text": [
            "Requirement already satisfied: kaggle in /usr/local/lib/python3.7/dist-packages (1.5.12)\n",
            "Requirement already satisfied: six>=1.10 in /usr/local/lib/python3.7/dist-packages (from kaggle) (1.15.0)\n",
            "Requirement already satisfied: urllib3 in /usr/local/lib/python3.7/dist-packages (from kaggle) (1.24.3)\n",
            "Requirement already satisfied: requests in /usr/local/lib/python3.7/dist-packages (from kaggle) (2.23.0)\n",
            "Requirement already satisfied: tqdm in /usr/local/lib/python3.7/dist-packages (from kaggle) (4.64.0)\n",
            "Requirement already satisfied: python-dateutil in /usr/local/lib/python3.7/dist-packages (from kaggle) (2.8.2)\n",
            "Requirement already satisfied: python-slugify in /usr/local/lib/python3.7/dist-packages (from kaggle) (6.1.2)\n",
            "Requirement already satisfied: certifi in /usr/local/lib/python3.7/dist-packages (from kaggle) (2021.10.8)\n",
            "Requirement already satisfied: text-unidecode>=1.3 in /usr/local/lib/python3.7/dist-packages (from python-slugify->kaggle) (1.3)\n",
            "Requirement already satisfied: idna<3,>=2.5 in /usr/local/lib/python3.7/dist-packages (from requests->kaggle) (2.10)\n",
            "Requirement already satisfied: chardet<4,>=3.0.2 in /usr/local/lib/python3.7/dist-packages (from requests->kaggle) (3.0.4)\n",
            "Downloading animals10.zip to /content\n",
            " 97% 570M/586M [00:20<00:00, 32.6MB/s]\n",
            "100% 586M/586M [00:20<00:00, 30.4MB/s]\n"
          ]
        }
      ],
      "source": [
        "! pip install kaggle\n",
        "! mkdir ~/.kaggle\n",
        "! cp kaggle.json ~/.kaggle/\n",
        "! chmod 600 ~/.kaggle/kaggle.json\n",
        "! kaggle datasets download alessiocorrado99/animals10"
      ]
    },
    {
      "cell_type": "code",
      "execution_count": null,
      "metadata": {
        "id": "y7yLQ6fwnzK-"
      },
      "outputs": [],
      "source": [
        "! unzip animals10.zip "
      ]
    },
    {
      "cell_type": "code",
      "execution_count": null,
      "metadata": {
        "colab": {
          "base_uri": "https://localhost:8080/",
          "height": 178
        },
        "id": "lvZ5MgoAZNbe",
        "outputId": "2bd975ab-a038-44f8-8de3-0442bc69aa8e"
      },
      "outputs": [
        {
          "output_type": "stream",
          "name": "stdout",
          "text": [
            "Found 26179 files belonging to 10 classes.\n",
            "Using 23562 files for training.\n",
            "Found 26179 files belonging to 10 classes.\n",
            "Using 2617 files for validation.\n"
          ]
        },
        {
          "output_type": "execute_result",
          "data": {
            "text/plain": [
              "'\\nimport numpy as np\\nfrom sklearn.model_selection import train_test_split\\n\\nfull_dataset = tf.keras.utils.image_dataset_from_directory(\\n    \\'raw-img\\', \\n    #added v\\n    #validation_split=0.1,\\n    #subset=\"training\",\\n    seed=420,\\n    labels=\\'inferred\\',\\n    label_mode=\\'categorical\\',\\n    #added ^\\n    image_size=(224,224), \\n    batch_size=32\\n)\\n\\n###\\nfull_dataset_valid = tf.keras.utils.image_dataset_from_directory(\\n    \\'raw-img\\', \\n    #added v\\n    validation_split=0.1,\\n    subset=\"validation\",\\n    seed=420,\\n    labels=\\'inferred\\',\\n    label_mode=\\'categorical\\',\\n    #added ^\\n    image_size=(224,224), \\n    batch_size=32\\n)\\ntrain_label = np.concatenate([y for x, y in full_dataset_train])\\ntest_label = np.concatenate([y for x, y in full_dataset_valid]) \\n###\\n\\n\\nfull_dataset_labels = np.array([])\\n\\nfor x, y in full_dataset:\\n  #predictions = np.concatenate([predictions, model.predict_classes(x)])\\n  full_dataset_labels = np.concatenate([full_dataset_labels, np.argmax(y.numpy(), axis=-1)])\\n\\n\\n\\n\\n###\\nfor item in full_dataset: \\n  if item in full_dataset[0]:#.class_names[0]:\\n    full_dataset_labels.append(0)\\n  elif item in full_dataset[1]:#.class_names[1]:\\n    full_dataset_labels.append(1)\\n  elif item in full_dataset[2]:#.class_names[2]:\\n    full_dataset_labels.append(2)\\n  elif item in full_dataset[3]:#.class_names[3]:\\n    full_dataset_labels.append(3)\\n  elif item in full_dataset[4]:#.class_names[4]:\\n    full_dataset_labels.append(4)\\n  elif item in full_dataset[5]:#.class_names[5]:\\n    full_dataset_labels.append(5)\\n  elif item in full_dataset[6]:#.class_names[6]:\\n    full_dataset_labels.append(6)\\n  elif item in full_dataset[7]:#.class_names[7]:\\n    full_dataset_labels.append(7)\\n  elif item in full_dataset[8]:#.class_names[8]:\\n    full_dataset_labels.append(8)\\n  elif item in full_dataset[9]:#.class_names[9]:\\n    full_dataset_labels.append(9)\\n###\\n\\nprint(\"first class:\" , full_dataset.class_names[0])\\nprint(\"full data set:\" , full_dataset)\\n#print(\"full dataset size:\" , full_dataset.enumerate)\\n#full_dataset_labels = full_dataset.enumerate\\nprint(\"full data set labels:\" , full_dataset_labels)\\nprint(\"full data set labels size:\" , full_dataset_labels.size)\\n#print(train_label)\\n\\n#print(full_dataset_labels.size)\\n\\n#X_train, X_test, y_train, y_test = train_test_split(full_dataset, full_dataset_labels, test_size=0.10, random_state=420)\\n#sklearn.model_selection.train_test_split(*arrays, test_size=None, train_size=None, random_state=None, shuffle=True, stratify=None)[source]\\n'"
            ],
            "application/vnd.google.colaboratory.intrinsic+json": {
              "type": "string"
            }
          },
          "metadata": {},
          "execution_count": 5
        }
      ],
      "source": [
        "#Dataset contains 26,179 images from 10 categories \n",
        "#Split into 5:4:1 training:validation:testing 14000:11200:2800 \n",
        "\n",
        "#Goal: Split data into training (includes: training & validation) and testing sets \n",
        "\n",
        "#\n",
        "\n",
        "img_height = 224\n",
        "img_width = 224\n",
        "batch_size = 32\n",
        "#set aside 10% of data for testing before splitting \n",
        "\n",
        "train_ds = tf.keras.utils.image_dataset_from_directory(\n",
        "  'raw-img',\n",
        "  validation_split=0.1,\n",
        "  subset=\"training\",\n",
        "  seed=420,\n",
        "  image_size=(img_height, img_width),\n",
        "  batch_size=batch_size\n",
        "  )\n",
        "\n",
        "val_ds = tf.keras.utils.image_dataset_from_directory(\n",
        "  'raw-img',\n",
        "  validation_split=0.1,\n",
        "  subset=\"validation\",\n",
        "  seed=420,\n",
        "  image_size=(img_height, img_width),\n",
        "  batch_size=batch_size\n",
        "  )\n",
        "\n",
        "class_names = train_ds.class_names\n",
        "#print(class_names)\n",
        "\n",
        "#\n"
      ]
    },
    {
      "cell_type": "code",
      "execution_count": null,
      "metadata": {
        "colab": {
          "base_uri": "https://localhost:8080/",
          "height": 107
        },
        "id": "3f69L0CFo67w",
        "outputId": "b5412d27-e296-4a1d-a3a2-c8992401e269"
      },
      "outputs": [
        {
          "output_type": "execute_result",
          "data": {
            "text/plain": [
              "'\\ncnn.add(tf.keras.layers.Conv2D(filters=64, kernel_size=7, activation=\"relu\", padding = \"same\", input_shape=[224, 224, 3])) #Convolution 1 \\n#                             64 filters; 7x7;          relu preferred; dont need to count padding; \\n#                                                                       dont lose any info \\n#                                                                       preserve spacial info \\n#                                                                       keep size \\ncnn.add(tf.keras.layers.MaxPool2D(pool_size=2, strides=2)) #Pooling 1\\n#                               output size: (size=28-poolsize=2)/(stride = 2) + 1 = 14\\ncnn.add(tf.keras.layers.Conv2D(filters=128, kernel_size=3, activation=\"relu\", padding = \"same\")) #Convolution 2\\n#                             128 filters \\ncnn.add(tf.keras.layers.Conv2D(filters=128, kernel_size=3, activation=\"relu\", padding = \"same\")) #Convolution 3 \\n#                                                                            preserve spacial information\\ncnn.add(tf.keras.layers.MaxPool2D(pool_size=2, strides=2)) #Pooling 2\\n#                                 output size: (size=14-poolsize=2)/(stride=2)+1 = 7 \\ncnn.add(tf.keras.layers.Conv2D(filters=256, kernel_size=3, activation=\"relu\", padding = \"same\")) #Convolution 4\\ncnn.add(tf.keras.layers.Conv2D(filters=256, kernel_size=3, activation=\"relu\", padding = \"same\")) #Convolution 5 \\n#                                 output size: 7x7 since padding is the same for the last 2 layers, which keeps the size \\ncnn.add(tf.keras.layers.MaxPool2D(pool_size=2, strides=2)) #Pooling 3 \\n#                                 output size: (lowerbound[(7-2)/(2)])+1 = 3 \\ncnn.add(tf.keras.layers.Flatten()) #Flattening \\ncnn.add(tf.keras.layers.Dense(units=128, activation=\"relu\"))#Full Connection1\\ntf.keras.layers.Dropout(0.5) \\n#   dropout randomly removes some neurons \\ncnn.add(tf.keras.layers.Dense(units=64, activation=\"relu\"))#Full Connection2\\ntf.keras.layers.Dropout(0.5)\\ncnn.add(tf.keras.layers.Dense(units= 10, activation= \"softmax\"))#Output layer \\n#   units = 10 because we have 10 classes \\n\\n#generally, we want fewer parameters, so smaller filters with deeper architecture (aka more convolution layers) \\n#Tips: \\n#Replace large convolutions (5 x 5, 7 x 7) with stacks of 3 x 3 convolutions\\n#1 x 1 “bottleneck” convolutions are very efficient\\n#All of the above give fewer parameters, less compute, more nonlinearity \\n#Do not use sigmoid, saturated neurons \"kill\" the gradient\\n#Leaky ReLU was made to avoid saturation and so the gradient is not 0 when x<0 \\n#Use ReLU. Be careful with your learning rates (10^-3/10^-4)\\n# Try out Leaky ReLU\\n#Try out tanh and sigmoid but don’t expect much\\n'"
            ],
            "application/vnd.google.colaboratory.intrinsic+json": {
              "type": "string"
            }
          },
          "metadata": {},
          "execution_count": 6
        }
      ],
      "source": [
        "#Building Neural Network Model/Architecture\n",
        "\n",
        "model = tf.keras.models.Sequential() #initializing the CNN model \n",
        "\n",
        "#VGG16 \n",
        "\n",
        "model.add(tf.keras.layers.Conv2D(input_shape=(224,224,3),filters=64,kernel_size=(3,3), padding=\"same\", activation=\"relu\"))\n",
        "\n",
        "model.add(tf.keras.layers.Conv2D(filters=64,kernel_size=(3,3), padding=\"same\", activation=\"relu\"))\n",
        "\n",
        "model.add(tf.keras.layers.MaxPool2D(pool_size=(2,2),strides=(2,2)))\n",
        "\n",
        "model.add(tf.keras.layers.Conv2D(filters=128, kernel_size=(3,3), padding=\"same\", activation=\"relu\"))\n",
        "\n",
        "model.add(tf.keras.layers.Conv2D(filters=128, kernel_size=(3,3), padding=\"same\", activation=\"relu\"))\n",
        "\n",
        "model.add(tf.keras.layers.MaxPool2D(pool_size=(2,2),strides=(2,2)))\n",
        "\n",
        "model.add(tf.keras.layers.Conv2D(filters=256, kernel_size=(3,3), padding=\"same\", activation=\"relu\"))\n",
        "\n",
        "model.add(tf.keras.layers.Conv2D(filters=256, kernel_size=(3,3), padding=\"same\", activation=\"relu\"))\n",
        "\n",
        "model.add(tf.keras.layers.Conv2D(filters=256, kernel_size=(3,3), padding=\"same\", activation=\"relu\"))\n",
        "\n",
        "model.add(tf.keras.layers.MaxPool2D(pool_size=(2,2),strides=(2,2)))\n",
        "\n",
        "model.add(tf.keras.layers.Conv2D(filters=512, kernel_size=(3,3), padding=\"same\", activation=\"relu\"))\n",
        "\n",
        "model.add(tf.keras.layers.Conv2D(filters=512, kernel_size=(3,3), padding=\"same\", activation=\"relu\"))\n",
        "\n",
        "model.add(tf.keras.layers.Conv2D(filters=512, kernel_size=(3,3), padding=\"same\", activation=\"relu\"))\n",
        "\n",
        "model.add(tf.keras.layers.MaxPool2D(pool_size=(2,2),strides=(2,2)))\n",
        "\n",
        "model.add(tf.keras.layers.Conv2D(filters=512, kernel_size=(3,3), padding=\"same\", activation=\"relu\"))\n",
        "\n",
        "model.add(tf.keras.layers.Conv2D(filters=512, kernel_size=(3,3), padding=\"same\", activation=\"relu\"))\n",
        "\n",
        "model.add(tf.keras.layers.Conv2D(filters=512, kernel_size=(3,3), padding=\"same\", activation=\"relu\"))\n",
        "\n",
        "model.add(tf.keras.layers.MaxPool2D(pool_size=(2,2),strides=(2,2)))\n",
        "\n",
        "model.add(tf.keras.layers.Flatten())\n",
        "\n",
        "model.add(tf.keras.layers.Dense(units=4096,activation=\"relu\"))\n",
        "#model.add(tf.keras.layers.Dropout(0.5)) #added, see if this does anything for anything \n",
        "model.add(tf.keras.layers.Dense(units=4096,activation=\"relu\"))\n",
        "#model.add(tf.keras.layers.Dropout(0.5)) #added, see if this does anything for anything \n",
        "model.add(tf.keras.layers.Dense(units=10, activation=\"softmax\"))\n",
        "#model.add(tf.keras.layers.Dense(10, activation=\"softmax\"))\n",
        "\n",
        "\"\"\"\n",
        "cnn.add(tf.keras.layers.Conv2D(filters=64, kernel_size=7, activation=\"relu\", padding = \"same\", input_shape=[224, 224, 3])) #Convolution 1 \n",
        "#                             64 filters; 7x7;          relu preferred; dont need to count padding; \n",
        "#                                                                       dont lose any info \n",
        "#                                                                       preserve spacial info \n",
        "#                                                                       keep size \n",
        "cnn.add(tf.keras.layers.MaxPool2D(pool_size=2, strides=2)) #Pooling 1\n",
        "#                               output size: (size=28-poolsize=2)/(stride = 2) + 1 = 14\n",
        "cnn.add(tf.keras.layers.Conv2D(filters=128, kernel_size=3, activation=\"relu\", padding = \"same\")) #Convolution 2\n",
        "#                             128 filters \n",
        "cnn.add(tf.keras.layers.Conv2D(filters=128, kernel_size=3, activation=\"relu\", padding = \"same\")) #Convolution 3 \n",
        "#                                                                            preserve spacial information\n",
        "cnn.add(tf.keras.layers.MaxPool2D(pool_size=2, strides=2)) #Pooling 2\n",
        "#                                 output size: (size=14-poolsize=2)/(stride=2)+1 = 7 \n",
        "cnn.add(tf.keras.layers.Conv2D(filters=256, kernel_size=3, activation=\"relu\", padding = \"same\")) #Convolution 4\n",
        "cnn.add(tf.keras.layers.Conv2D(filters=256, kernel_size=3, activation=\"relu\", padding = \"same\")) #Convolution 5 \n",
        "#                                 output size: 7x7 since padding is the same for the last 2 layers, which keeps the size \n",
        "cnn.add(tf.keras.layers.MaxPool2D(pool_size=2, strides=2)) #Pooling 3 \n",
        "#                                 output size: (lowerbound[(7-2)/(2)])+1 = 3 \n",
        "cnn.add(tf.keras.layers.Flatten()) #Flattening \n",
        "cnn.add(tf.keras.layers.Dense(units=128, activation=\"relu\"))#Full Connection1\n",
        "tf.keras.layers.Dropout(0.5) \n",
        "#   dropout randomly removes some neurons \n",
        "cnn.add(tf.keras.layers.Dense(units=64, activation=\"relu\"))#Full Connection2\n",
        "tf.keras.layers.Dropout(0.5)\n",
        "cnn.add(tf.keras.layers.Dense(units= 10, activation= \"softmax\"))#Output layer \n",
        "#   units = 10 because we have 10 classes \n",
        "\n",
        "#generally, we want fewer parameters, so smaller filters with deeper architecture (aka more convolution layers) \n",
        "#Tips: \n",
        "#Replace large convolutions (5 x 5, 7 x 7) with stacks of 3 x 3 convolutions\n",
        "#1 x 1 “bottleneck” convolutions are very efficient\n",
        "#All of the above give fewer parameters, less compute, more nonlinearity \n",
        "#Do not use sigmoid, saturated neurons \"kill\" the gradient\n",
        "#Leaky ReLU was made to avoid saturation and so the gradient is not 0 when x<0 \n",
        "#Use ReLU. Be careful with your learning rates (10^-3/10^-4)\n",
        "# Try out Leaky ReLU\n",
        "#Try out tanh and sigmoid but don’t expect much\n",
        "\"\"\""
      ]
    },
    {
      "cell_type": "code",
      "execution_count": null,
      "metadata": {
        "colab": {
          "base_uri": "https://localhost:8080/"
        },
        "id": "PJnEqnSKw8Kg",
        "outputId": "2e9de49f-6d72-475a-d0dc-909dffb47db0"
      },
      "outputs": [
        {
          "output_type": "stream",
          "name": "stdout",
          "text": [
            "Model: \"sequential\"\n",
            "_________________________________________________________________\n",
            " Layer (type)                Output Shape              Param #   \n",
            "=================================================================\n",
            " conv2d (Conv2D)             (None, 224, 224, 64)      1792      \n",
            "                                                                 \n",
            " conv2d_1 (Conv2D)           (None, 224, 224, 64)      36928     \n",
            "                                                                 \n",
            " max_pooling2d (MaxPooling2D  (None, 112, 112, 64)     0         \n",
            " )                                                               \n",
            "                                                                 \n",
            " conv2d_2 (Conv2D)           (None, 112, 112, 128)     73856     \n",
            "                                                                 \n",
            " conv2d_3 (Conv2D)           (None, 112, 112, 128)     147584    \n",
            "                                                                 \n",
            " max_pooling2d_1 (MaxPooling  (None, 56, 56, 128)      0         \n",
            " 2D)                                                             \n",
            "                                                                 \n",
            " conv2d_4 (Conv2D)           (None, 56, 56, 256)       295168    \n",
            "                                                                 \n",
            " conv2d_5 (Conv2D)           (None, 56, 56, 256)       590080    \n",
            "                                                                 \n",
            " conv2d_6 (Conv2D)           (None, 56, 56, 256)       590080    \n",
            "                                                                 \n",
            " max_pooling2d_2 (MaxPooling  (None, 28, 28, 256)      0         \n",
            " 2D)                                                             \n",
            "                                                                 \n",
            " conv2d_7 (Conv2D)           (None, 28, 28, 512)       1180160   \n",
            "                                                                 \n",
            " conv2d_8 (Conv2D)           (None, 28, 28, 512)       2359808   \n",
            "                                                                 \n",
            " conv2d_9 (Conv2D)           (None, 28, 28, 512)       2359808   \n",
            "                                                                 \n",
            " max_pooling2d_3 (MaxPooling  (None, 14, 14, 512)      0         \n",
            " 2D)                                                             \n",
            "                                                                 \n",
            " conv2d_10 (Conv2D)          (None, 14, 14, 512)       2359808   \n",
            "                                                                 \n",
            " conv2d_11 (Conv2D)          (None, 14, 14, 512)       2359808   \n",
            "                                                                 \n",
            " conv2d_12 (Conv2D)          (None, 14, 14, 512)       2359808   \n",
            "                                                                 \n",
            " max_pooling2d_4 (MaxPooling  (None, 7, 7, 512)        0         \n",
            " 2D)                                                             \n",
            "                                                                 \n",
            " flatten (Flatten)           (None, 25088)             0         \n",
            "                                                                 \n",
            " dense (Dense)               (None, 4096)              102764544 \n",
            "                                                                 \n",
            " dense_1 (Dense)             (None, 4096)              16781312  \n",
            "                                                                 \n",
            " dense_2 (Dense)             (None, 10)                40970     \n",
            "                                                                 \n",
            "=================================================================\n",
            "Total params: 134,301,514\n",
            "Trainable params: 134,301,514\n",
            "Non-trainable params: 0\n",
            "_________________________________________________________________\n"
          ]
        }
      ],
      "source": [
        "#Print out Model Architecture \n",
        "model.summary()"
      ]
    },
    {
      "cell_type": "code",
      "execution_count": null,
      "metadata": {
        "id": "BwHUVS0NxA02"
      },
      "outputs": [],
      "source": [
        "#Compile Model\n",
        "opt = tf.keras.optimizers.Adam(0.001)\n",
        "\n",
        "model.compile(loss='sparse_categorical_crossentropy',\n",
        "              optimizer=opt, \n",
        "              metrics=['accuracy']) "
      ]
    },
    {
      "cell_type": "code",
      "execution_count": null,
      "metadata": {
        "colab": {
          "base_uri": "https://localhost:8080/"
        },
        "id": "JPJgf9pX5LnD",
        "outputId": "3d268b24-d970-42ea-e0e1-c0f9e4aff105"
      },
      "outputs": [
        {
          "output_type": "stream",
          "name": "stdout",
          "text": [
            "Epoch 1/30\n",
            "10/10 [==============================] - 58s 4s/step - loss: 152.3063 - accuracy: 0.1594 - val_loss: 2.2415 - val_accuracy: 0.2063\n",
            "Epoch 2/30\n",
            "10/10 [==============================] - 33s 4s/step - loss: 2.3340 - accuracy: 0.1344 - val_loss: 2.2864 - val_accuracy: 0.1146\n",
            "Epoch 3/30\n",
            "10/10 [==============================] - 33s 4s/step - loss: 2.2595 - accuracy: 0.1906 - val_loss: 2.2511 - val_accuracy: 0.1941\n",
            "Epoch 4/30\n",
            "10/10 [==============================] - 33s 4s/step - loss: 2.2532 - accuracy: 0.2000 - val_loss: 2.2525 - val_accuracy: 0.2010\n",
            "Epoch 5/30\n",
            "10/10 [==============================] - 33s 4s/step - loss: 2.2593 - accuracy: 0.1844 - val_loss: 2.2558 - val_accuracy: 0.2010\n",
            "Epoch 6/30\n",
            "10/10 [==============================] - 33s 4s/step - loss: 2.2587 - accuracy: 0.1594 - val_loss: 2.2309 - val_accuracy: 0.2010\n",
            "Epoch 7/30\n",
            "10/10 [==============================] - 33s 4s/step - loss: 2.2313 - accuracy: 0.1531 - val_loss: 2.2069 - val_accuracy: 0.2010\n",
            "Epoch 8/30\n",
            "10/10 [==============================] - 33s 4s/step - loss: 2.2342 - accuracy: 0.1844 - val_loss: 2.1977 - val_accuracy: 0.1941\n",
            "Epoch 9/30\n",
            "10/10 [==============================] - 33s 4s/step - loss: 2.1950 - accuracy: 0.1875 - val_loss: 2.1918 - val_accuracy: 0.1941\n",
            "Epoch 10/30\n",
            "10/10 [==============================] - 33s 4s/step - loss: 2.2283 - accuracy: 0.1719 - val_loss: 2.1919 - val_accuracy: 0.1941\n",
            "Epoch 11/30\n",
            "10/10 [==============================] - 33s 4s/step - loss: 2.2179 - accuracy: 0.1906 - val_loss: 2.1926 - val_accuracy: 0.1941\n",
            "Epoch 12/30\n",
            "10/10 [==============================] - 33s 4s/step - loss: 2.2303 - accuracy: 0.1937 - val_loss: 2.1939 - val_accuracy: 0.1941\n",
            "Epoch 13/30\n",
            "10/10 [==============================] - 33s 4s/step - loss: 2.2635 - accuracy: 0.1656 - val_loss: 2.1982 - val_accuracy: 0.1941\n",
            "Epoch 14/30\n",
            "10/10 [==============================] - 33s 4s/step - loss: 2.2334 - accuracy: 0.1594 - val_loss: 2.1964 - val_accuracy: 0.2010\n",
            "Epoch 15/30\n",
            "10/10 [==============================] - 33s 4s/step - loss: 2.1586 - accuracy: 0.2125 - val_loss: 2.1839 - val_accuracy: 0.2010\n",
            "Epoch 16/30\n",
            "10/10 [==============================] - 33s 4s/step - loss: 2.2428 - accuracy: 0.1562 - val_loss: 2.1845 - val_accuracy: 0.2010\n",
            "Epoch 17/30\n",
            "10/10 [==============================] - 33s 4s/step - loss: 2.1353 - accuracy: 0.2250 - val_loss: 2.1885 - val_accuracy: 0.1941\n",
            "Epoch 18/30\n",
            "10/10 [==============================] - 33s 4s/step - loss: 2.2352 - accuracy: 0.1625 - val_loss: 2.1864 - val_accuracy: 0.2010\n",
            "Epoch 19/30\n",
            "10/10 [==============================] - 33s 4s/step - loss: 2.2582 - accuracy: 0.1750 - val_loss: 2.1996 - val_accuracy: 0.2010\n",
            "Epoch 20/30\n",
            "10/10 [==============================] - 33s 4s/step - loss: 2.2296 - accuracy: 0.1781 - val_loss: 2.2021 - val_accuracy: 0.2010\n",
            "Epoch 21/30\n",
            "10/10 [==============================] - 33s 4s/step - loss: 2.1993 - accuracy: 0.1844 - val_loss: 2.1931 - val_accuracy: 0.2010\n",
            "Epoch 22/30\n",
            "10/10 [==============================] - 33s 4s/step - loss: 2.2178 - accuracy: 0.1437 - val_loss: 2.1878 - val_accuracy: 0.1941\n",
            "Epoch 23/30\n",
            "10/10 [==============================] - 33s 4s/step - loss: 2.2137 - accuracy: 0.1781 - val_loss: 2.1861 - val_accuracy: 0.2010\n",
            "Epoch 24/30\n",
            "10/10 [==============================] - 33s 4s/step - loss: 2.2459 - accuracy: 0.1719 - val_loss: 2.1925 - val_accuracy: 0.2010\n",
            "Epoch 25/30\n",
            "10/10 [==============================] - 33s 4s/step - loss: 2.1949 - accuracy: 0.2188 - val_loss: 2.1907 - val_accuracy: 0.2010\n",
            "Epoch 26/30\n",
            "10/10 [==============================] - 33s 4s/step - loss: 2.2552 - accuracy: 0.1625 - val_loss: 2.1889 - val_accuracy: 0.2010\n",
            "Epoch 27/30\n",
            "10/10 [==============================] - 33s 4s/step - loss: 2.1831 - accuracy: 0.2000 - val_loss: 2.1869 - val_accuracy: 0.2010\n",
            "Epoch 28/30\n",
            "10/10 [==============================] - 33s 4s/step - loss: 2.2086 - accuracy: 0.1531 - val_loss: 2.1876 - val_accuracy: 0.2010\n",
            "Epoch 29/30\n",
            "10/10 [==============================] - 33s 4s/step - loss: 2.1700 - accuracy: 0.1937 - val_loss: 2.1883 - val_accuracy: 0.1941\n",
            "Epoch 30/30\n",
            "10/10 [==============================] - 33s 4s/step - loss: 2.2217 - accuracy: 0.1937 - val_loss: 2.1873 - val_accuracy: 0.1941\n"
          ]
        }
      ],
      "source": [
        "#Train the Network \n",
        "\n",
        "#history = cnn.fit(X_train, y_train, batch_size = 100, epochs=5, validation_data=(X_valid, y_valid)) \n",
        "#history = model.fit(\n",
        "#                  large dataset of images to train on, \n",
        "#                           large dataset of int labels to train with, \n",
        "#                                    batch size = 32 \n",
        "#                                                      epochs = 30\n",
        "#                                                                validation_data=(last 5000 images split from full dataset exclusive for testing, \n",
        "#                                                                                          last 5000 digit labels from full dataset exclusive for testing)\n",
        "#                   )\n",
        "#X_train_full = images for training \n",
        "#y_train_full = digit labels for training data\n",
        "#X_test = images for testing\n",
        "#y_test = digit labels for testing data\n",
        "#X_train = X_train_full-last 5000 images to be used for training \n",
        "#X_valid = last 5000 images of X_train_full to be used for validation\n",
        "#y_train = y_train_full-last 5000 digit labels to be used for training \n",
        "#y_valid = last 5000 digit labels of y_train_full to be used for validation\n",
        "\n",
        "history = model.fit(train_ds, validation_data = val_ds, batch_size = 32, epochs=30, steps_per_epoch = 10)"
      ]
    },
    {
      "cell_type": "code",
      "execution_count": null,
      "metadata": {
        "id": "xKWlZSYYXbgU",
        "colab": {
          "base_uri": "https://localhost:8080/",
          "height": 545
        },
        "outputId": "5d5da11f-8b15-48d6-d99a-5a121c04afbf"
      },
      "outputs": [
        {
          "output_type": "display_data",
          "data": {
            "text/plain": [
              "<Figure size 432x288 with 1 Axes>"
            ],
            "image/png": "[encoded data removed]"
          },
          "metadata": {
            "needs_background": "light"
          }
        },
        {
          "output_type": "display_data",
          "data": {
            "text/plain": [
              "<Figure size 432x288 with 1 Axes>"
            ],
            "image/png": "[encoded data removed]"
          },
          "metadata": {
            "needs_background": "light"
          }
        }
      ],
      "source": [
        "import matplotlib.pyplot as plt\n",
        "\n",
        "acc = history.history['accuracy']\n",
        "val_acc = history.history['val_accuracy']\n",
        "loss = history.history['loss']\n",
        "val_loss = history.history['val_loss']\n",
        "\n",
        "epochs = range(1, len(acc) + 1)\n",
        "\n",
        "plt.plot(epochs, acc, 'red', label='Training acc')\n",
        "plt.plot(epochs, val_acc, 'green', label='Validation acc')\n",
        "plt.title('Training and validation accuracy')\n",
        "plt.legend()\n",
        "\n",
        "plt.figure()\n",
        "\n",
        "plt.plot(range(1,30), loss[1:], 'red', label='Training loss')#epochs, loss, 'red', label='Training loss')\n",
        "plt.plot(range(1,30), val_loss[1:], 'green', label='Validation loss')#epochs, val_loss, 'green', label='Validation loss')\n",
        "plt.title('Training and validation loss')\n",
        "plt.legend()\n",
        "\n",
        "plt.show()"
      ]
    }
  ],
  "metadata": {
    "colab": {
      "name": "CECS 456 Final Project.ipynb",
      "provenance": [],
      "include_colab_link": true
    },
    "kernelspec": {
      "display_name": "Python 3",
      "name": "python3"
    },
    "language_info": {
      "name": "python"
    },
    "accelerator": "GPU"
  },
  "nbformat": 4,
  "nbformat_minor": 0
}